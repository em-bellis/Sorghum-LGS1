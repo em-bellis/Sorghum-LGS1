{
 "cells": [
  {
   "cell_type": "markdown",
   "metadata": {},
   "source": [
    "# Choose X random windows of size Y in a genome that overlap gene models"
   ]
  },
  {
   "cell_type": "markdown",
   "metadata": {},
   "source": [
    "Based on an input annotation file (e.g. gff3), choose 1000 random windows that contain genes"
   ]
  },
  {
   "cell_type": "markdown",
   "metadata": {},
   "source": [
    "First, read in the input file. This one is the Sorghum bicolor gff3 from Phytozome v12, available at https://genome.jgi.doe.gov/portal/pages/dynamicOrganismDownload.jsf?organism=Phytozome:"
   ]
  },
  {
   "cell_type": "code",
   "execution_count": 74,
   "metadata": {},
   "outputs": [
    {
     "name": "stdout",
     "output_type": "stream",
     "text": [
      "Data type: <class 'numpy.ndarray'>\n",
      "[['Chr01' 'gene' '1951' '2616']\n",
      " ['Chr01' 'mRNA' '1951' '2616']\n",
      " ['Chr01' 'CDS' '1951' '2454']\n",
      " ['Chr01' 'CDS' '2473' '2616']\n",
      " ['Chr01' 'gene' '11180' '14899']]\n",
      "\n",
      "Number of rows: 426522 \n",
      "\n",
      "Data type: <class 'pandas.core.frame.DataFrame'> \n",
      "      Chr   Ann  Start   Stop\n",
      "0  Chr01  gene   1951   2616\n",
      "1  Chr01  mRNA   1951   2616\n",
      "2  Chr01   CDS   1951   2454\n",
      "3  Chr01   CDS   2473   2616\n",
      "4  Chr01  gene  11180  14899\n"
     ]
    }
   ],
   "source": [
    "import numpy as np\n",
    "\n",
    "#read in important columns into dataframe\n",
    "Chr = np.loadtxt( \"/Users/emilywork/Downloads/Sbicolor_313_v3.1.gene.gff3\", usecols=[0], dtype=\"str\", unpack=True )\n",
    "Ann = np.loadtxt( \"/Users/emilywork/Downloads/Sbicolor_313_v3.1.gene.gff3\", usecols=[2], dtype=\"str\", unpack=True )\n",
    "Start = np.loadtxt( \"/Users/emilywork/Downloads/Sbicolor_313_v3.1.gene.gff3\", usecols=[3], dtype=\"int\", unpack=True )\n",
    "Stop = np.loadtxt( \"/Users/emilywork/Downloads/Sbicolor_313_v3.1.gene.gff3\", usecols=[4], dtype=\"int\", unpack=True )\n",
    "\n",
    "gffdata = np.column_stack([Chr,Ann,Start,Stop])\n",
    "\n",
    "##np array\n",
    "print(\"Data type:\", type(gffdata))\n",
    "print(gffdata[0:5])\n",
    "print(\"\\nNumber of rows:\", len(gffdata),\"\\n\")\n",
    "\n",
    "##pandas df\n",
    "import pandas as pd\n",
    "df = pd.DataFrame(data=gffdata, columns=['Chr', 'Ann', 'Start','Stop'])\n",
    "print(\"Data type:\", type(df),\"\\n\",df[0:5])"
   ]
  },
  {
   "cell_type": "markdown",
   "metadata": {},
   "source": [
    "Then, get just the entries that are annotated as being a gene:"
   ]
  },
  {
   "cell_type": "code",
   "execution_count": 121,
   "metadata": {},
   "outputs": [
    {
     "name": "stdout",
     "output_type": "stream",
     "text": [
      "Number of rows: 34211 \n",
      "        Chr   Ann  Start   Stop\n",
      "0    Chr01  gene   1951   2616\n",
      "4    Chr01  gene  11180  14899\n",
      "19   Chr01  gene  23399  24152\n",
      "24   Chr01  gene  22391  42443\n",
      "165  Chr01  gene  52891  53594\n"
     ]
    }
   ],
   "source": [
    "# select rows containing 'gene'\n",
    "genes = df.loc[df['Ann'] ==\"gene\"]\n",
    "print(\"Number of rows:\", len(genes),\"\\n\",genes[0:5])"
   ]
  },
  {
   "cell_type": "markdown",
   "metadata": {},
   "source": [
    "Get random 5 kb windows that contain at least part of a gene"
   ]
  },
  {
   "cell_type": "code",
   "execution_count": 167,
   "metadata": {},
   "outputs": [
    {
     "name": "stdout",
     "output_type": "stream",
     "text": [
      "          Chr   Ann     Start      Stop  Length\n",
      "341124  Chr08  gene  19265296  19268301    3005\n",
      "290955  Chr06  gene  55347385  55349551    2166\n",
      "239893  Chr05  gene   1574101   1577978    3877\n",
      "251492  Chr05  gene  33183891  33192725    8834\n",
      "170509  Chr03  gene  63364389  63369675    5286\n"
     ]
    }
   ],
   "source": [
    "randos = genes.sample(1000)\n",
    "print(randos[0:5])"
   ]
  },
  {
   "cell_type": "code",
   "execution_count": 173,
   "metadata": {},
   "outputs": [
    {
     "name": "stdout",
     "output_type": "stream",
     "text": [
      "          Chr   Ann     Start      Stop  Length  WinStart      WinEnd\n",
      "341124  Chr08  gene  19265296  19268301    3005  19265000  19270000.0\n",
      "290955  Chr06  gene  55347385  55349551    2166  55347000  55352000.0\n",
      "239893  Chr05  gene   1574101   1577978    3877   1574000   1579000.0\n",
      "251492  Chr05  gene  33183891  33192725    8834  33183000  33188000.0\n",
      "170509  Chr03  gene  63364389  63369675    5286  63364000  63369000.0\n"
     ]
    }
   ],
   "source": [
    "import math\n",
    "\n",
    "randos['WinStart'] = 0\n",
    "for i in randos.index:\n",
    "    randos.loc[i,'WinStart'] = math.floor(pd.to_numeric(randos.loc[i,'Start'])/1000)*1000\n",
    "    randos.loc[i,'WinEnd'] = randos.loc[i,'WinStart']+5000\n",
    "    \n",
    "print(randos[0:5])"
   ]
  },
  {
   "cell_type": "code",
   "execution_count": 179,
   "metadata": {},
   "outputs": [],
   "source": [
    "randos.to_csv('/Users/emilywork/Desktop/RandomWin.txt', header=None, index=None, sep='\\t', mode='a')"
   ]
  }
 ],
 "metadata": {
  "kernelspec": {
   "display_name": "Python 3",
   "language": "python",
   "name": "python3"
  },
  "language_info": {
   "codemirror_mode": {
    "name": "ipython",
    "version": 3
   },
   "file_extension": ".py",
   "mimetype": "text/x-python",
   "name": "python",
   "nbconvert_exporter": "python",
   "pygments_lexer": "ipython3",
   "version": "3.7.1"
  }
 },
 "nbformat": 4,
 "nbformat_minor": 2
}
